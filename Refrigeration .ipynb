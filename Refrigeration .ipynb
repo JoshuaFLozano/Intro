{
 "cells": [
  {
   "cell_type": "markdown",
   "metadata": {},
   "source": [
    "Must find heat flow for a refrigerator around Sentani region and possible cost per bottle of water \n",
    "(or how long to break even)\n",
    "\n",
    "\n",
    "\n",
    "Assuptions:\n",
    "use $q=UA\\Delta T$\n",
    "Using Sanyo HF-S6L refridgerator for basis of calculations\n",
    "average Jayapura weather= 29C\n",
    "average refridge temp=1.6C\n",
    "\n",
    "Stats of refirgierator: \n",
    "230V/ 60Hz\n",
    "Demensions:W*L*H=545mm*693mm*1295mm=1.788ft*2.27ft*4.286ft\n",
    "\n",
    "SA=42.59ft^2 or 3.9m^2\n",
    "U of polystyrene"
   ]
  },
  {
   "cell_type": "code",
   "execution_count": 6,
   "metadata": {
    "collapsed": true
   },
   "outputs": [],
   "source": [
    "k = .03\n",
    "#t= (a guess) 1 in and a half=.0381m"
   ]
  },
  {
   "cell_type": "code",
   "execution_count": 7,
   "metadata": {
    "collapsed": false
   },
   "outputs": [
    {
     "data": {
      "text/plain": [
       "0.7874015748031495"
      ]
     },
     "execution_count": 7,
     "metadata": {},
     "output_type": "execute_result"
    }
   ],
   "source": [
    "k / .0381"
   ]
  },
  {
   "cell_type": "code",
   "execution_count": 5,
   "metadata": {
    "collapsed": false
   },
   "outputs": [
    {
     "data": {
      "text/plain": [
       "84.14156399999999"
      ]
     },
     "execution_count": 5,
     "metadata": {},
     "output_type": "execute_result"
    }
   ],
   "source": [
    "(.7874)*(3.9)*(29-1.6)"
   ]
  },
  {
   "cell_type": "markdown",
   "metadata": {},
   "source": [
    "84.14 watts of heat flow\n",
    "Now we must find an assumed kwh cost of electricity which the average in indonesia is .11 USD (wiki 2015)\n",
    "however we need to find optimal time fridge is used and amount of time (in hours) used\n",
    "also we must find the amount of energy to cool beverage at optimal temperature\n",
    "29C to 1.6C\n",
    "$Q=mc\\Delta T$\n",
    "avg size of water bottle=16.9 oz or 479.1 grams\n",
    "specific heat capacity=4.179\n",
    "Change in temp=(29-1.6C)=27.4C"
   ]
  },
  {
   "cell_type": "code",
   "execution_count": 11,
   "metadata": {
    "collapsed": true
   },
   "outputs": [],
   "source": [
    "m = 479.1\n",
    "c = 4.179\n",
    "dT = 27.4"
   ]
  },
  {
   "cell_type": "code",
   "execution_count": 12,
   "metadata": {
    "collapsed": false,
    "scrolled": true
   },
   "outputs": [
    {
     "data": {
      "text/plain": [
       "54859.15386"
      ]
     },
     "execution_count": 12,
     "metadata": {},
     "output_type": "execute_result"
    }
   ],
   "source": [
    "(m)*(c)*(dT)"
   ]
  },
  {
   "cell_type": "markdown",
   "metadata": {},
   "source": [
    "54859.15 Joules to lower temperature of 1 bottle of water"
   ]
  }
 ],
 "metadata": {
  "kernelspec": {
   "display_name": "Python 3",
   "language": "python",
   "name": "python3"
  },
  "language_info": {
   "codemirror_mode": {
    "name": "ipython",
    "version": 3
   },
   "file_extension": ".py",
   "mimetype": "text/x-python",
   "name": "python",
   "nbconvert_exporter": "python",
   "pygments_lexer": "ipython3",
   "version": "3.4.3"
  }
 },
 "nbformat": 4,
 "nbformat_minor": 0
}
