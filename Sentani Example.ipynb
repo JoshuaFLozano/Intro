from io import StringIO
import pandas as pd
data = '''
household,dorm,phone_energy,laptop_energy
A,tuscany,10,50
B,sauv,30,60
C,tuscany,12,45
D,sauv,20,50
'''

%matplotlib inline
import numpy as np
import pandas as pd
import seaborn as sns
import matplotlib.pyplot as plt

from io import StringIO
from tabulate import tabulate

df = pd.read_csv(StringIO(data))
df
